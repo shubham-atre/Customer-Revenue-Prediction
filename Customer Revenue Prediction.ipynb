{
 "cells": [
  {
   "cell_type": "code",
   "execution_count": 56,
   "metadata": {},
   "outputs": [],
   "source": [
    "import numpy as np\n",
    "import pandas as pd\n",
    "from sklearn.cluster import KMeans\n",
    "from sklearn.linear_model import LinearRegression\n",
    "import matplotlib.pyplot as plt\n",
    "import matplotlib.axes as Axes\n",
    "import seaborn as sns\n",
    "from sklearn.model_selection import train_test_split\n",
    "from sklearn.metrics import mean_squared_error\n",
    "from math import sqrt\n",
    "from sklearn.ensemble import RandomForestRegressor\n",
    "import json\n",
    "from pandas.io.json import json_normalize\n",
    "import matplotlib as matplotlib\n",
    "import warnings\n",
    "warnings.filterwarnings('ignore')\n",
    "from scipy import stats"
   ]
  },
  {
   "cell_type": "markdown",
   "metadata": {},
   "source": [
    "**DATA PREPROCESSING:**"
   ]
  },
  {
   "cell_type": "markdown",
   "metadata": {},
   "source": [
    "1) Firstly, The datasets in this exercise consists of several JSON objects that need to parsed."
   ]
  },
  {
   "cell_type": "code",
   "execution_count": 2,
   "metadata": {},
   "outputs": [],
   "source": [
    "#Below is the function which will parse the JSON values\n",
    "def parse_df(csv_path=None,nrows=None):\n",
    "    JSON_COLUMNS = ['device', 'geoNetwork', 'totals', 'trafficSource']\n",
    "    \n",
    "    df_raw = pd.read_csv(csv_path, \n",
    "                     converters={column: json.loads for column in JSON_COLUMNS}, \n",
    "                     dtype={'fullVisitorId': 'str'},\n",
    "                     nrows=nrows)\n",
    "    \n",
    "    for column in JSON_COLUMNS:\n",
    "        column_as_df = json_normalize(df_raw[column])\n",
    "        column_as_df.columns = [f\"{column}.{subcolumn}\" for subcolumn in column_as_df.columns]\n",
    "        df_raw = df_raw.drop(column, axis=1).merge(column_as_df, right_index=True, left_index=True)\n",
    "    return df_raw"
   ]
  },
  {
   "cell_type": "markdown",
   "metadata": {},
   "source": [
    "Let us load the training and test datasets using the function we just declared."
   ]
  },
  {
   "cell_type": "code",
   "execution_count": 3,
   "metadata": {},
   "outputs": [],
   "source": [
    "train_df_parsed = parse_df('C:/Users/Shubham/Desktop/DSF/HW3/all/train.csv')\n",
    "test_df_parsed = parse_df(\"C:/Users/Shubham/Desktop/DSF/HW3/all/test.csv\")"
   ]
  },
  {
   "cell_type": "markdown",
   "metadata": {},
   "source": [
    "Let's take a look at the data types of the dataset that we are dealing with."
   ]
  },
  {
   "cell_type": "code",
   "execution_count": 4,
   "metadata": {},
   "outputs": [
    {
     "data": {
      "text/plain": [
       "channelGrouping                                      object\n",
       "date                                                  int64\n",
       "fullVisitorId                                        object\n",
       "sessionId                                            object\n",
       "socialEngagementType                                 object\n",
       "visitId                                               int64\n",
       "visitNumber                                           int64\n",
       "visitStartTime                                        int64\n",
       "device.browser                                       object\n",
       "device.browserSize                                   object\n",
       "device.browserVersion                                object\n",
       "device.deviceCategory                                object\n",
       "device.flashVersion                                  object\n",
       "device.isMobile                                        bool\n",
       "device.language                                      object\n",
       "device.mobileDeviceBranding                          object\n",
       "device.mobileDeviceInfo                              object\n",
       "device.mobileDeviceMarketingName                     object\n",
       "device.mobileDeviceModel                             object\n",
       "device.mobileInputSelector                           object\n",
       "device.operatingSystem                               object\n",
       "device.operatingSystemVersion                        object\n",
       "device.screenColors                                  object\n",
       "device.screenResolution                              object\n",
       "geoNetwork.city                                      object\n",
       "geoNetwork.cityId                                    object\n",
       "geoNetwork.continent                                 object\n",
       "geoNetwork.country                                   object\n",
       "geoNetwork.latitude                                  object\n",
       "geoNetwork.longitude                                 object\n",
       "geoNetwork.metro                                     object\n",
       "geoNetwork.networkDomain                             object\n",
       "geoNetwork.networkLocation                           object\n",
       "geoNetwork.region                                    object\n",
       "geoNetwork.subContinent                              object\n",
       "totals.bounces                                       object\n",
       "totals.hits                                          object\n",
       "totals.newVisits                                     object\n",
       "totals.pageviews                                     object\n",
       "totals.transactionRevenue                            object\n",
       "totals.visits                                        object\n",
       "trafficSource.adContent                              object\n",
       "trafficSource.adwordsClickInfo.adNetworkType         object\n",
       "trafficSource.adwordsClickInfo.criteriaParameters    object\n",
       "trafficSource.adwordsClickInfo.gclId                 object\n",
       "trafficSource.adwordsClickInfo.isVideoAd             object\n",
       "trafficSource.adwordsClickInfo.page                  object\n",
       "trafficSource.adwordsClickInfo.slot                  object\n",
       "trafficSource.campaign                               object\n",
       "trafficSource.campaignCode                           object\n",
       "trafficSource.isTrueDirect                           object\n",
       "trafficSource.keyword                                object\n",
       "trafficSource.medium                                 object\n",
       "trafficSource.referralPath                           object\n",
       "trafficSource.source                                 object\n",
       "dtype: object"
      ]
     },
     "execution_count": 4,
     "metadata": {},
     "output_type": "execute_result"
    }
   ],
   "source": [
    "train_df_parsed.dtypes"
   ]
  },
  {
   "cell_type": "markdown",
   "metadata": {},
   "source": [
    "WOW!! That are a lot of columns, let us see if we can drop some of them."
   ]
  },
  {
   "cell_type": "markdown",
   "metadata": {},
   "source": [
    "**DATA PREPROCESSING:**"
   ]
  },
  {
   "cell_type": "markdown",
   "metadata": {},
   "source": [
    "2) If a column has only one constant value, it is not going to contribute towards the prediction. Let's check if we have such columns."
   ]
  },
  {
   "cell_type": "code",
   "execution_count": 5,
   "metadata": {},
   "outputs": [
    {
     "name": "stdout",
     "output_type": "stream",
     "text": [
      "socialEngagementType\n",
      "device.browserSize\n",
      "device.browserVersion\n",
      "device.flashVersion\n",
      "device.language\n",
      "device.mobileDeviceBranding\n",
      "device.mobileDeviceInfo\n",
      "device.mobileDeviceMarketingName\n",
      "device.mobileDeviceModel\n",
      "device.mobileInputSelector\n",
      "device.operatingSystemVersion\n",
      "device.screenColors\n",
      "device.screenResolution\n",
      "geoNetwork.cityId\n",
      "geoNetwork.latitude\n",
      "geoNetwork.longitude\n",
      "geoNetwork.networkLocation\n",
      "totals.visits\n",
      "trafficSource.adwordsClickInfo.criteriaParameters\n"
     ]
    }
   ],
   "source": [
    "for col in train_df_parsed.columns:\n",
    "    if len(train_df_parsed[col].unique()) == 1:\n",
    "        print(col)"
   ]
  },
  {
   "cell_type": "markdown",
   "metadata": {},
   "source": [
    "Looks like we have several of them. I am going to drop them all."
   ]
  },
  {
   "cell_type": "code",
   "execution_count": 6,
   "metadata": {},
   "outputs": [],
   "source": [
    "for col in train_df_parsed.columns:\n",
    "    if len(train_df_parsed[col].unique()) == 1:\n",
    "        train_df_parsed.drop(col,inplace=True,axis=1)"
   ]
  },
  {
   "cell_type": "markdown",
   "metadata": {},
   "source": [
    "**DATA PREPROCESSING:**"
   ]
  },
  {
   "cell_type": "markdown",
   "metadata": {},
   "source": [
    "3) A column might have two unique values but one of them might be NaN, again such columns are of no use . Let's check if we have such columns."
   ]
  },
  {
   "cell_type": "code",
   "execution_count": 7,
   "metadata": {},
   "outputs": [
    {
     "name": "stdout",
     "output_type": "stream",
     "text": [
      "device.isMobile\n",
      "[False  True]\n",
      "totals.bounces\n",
      "['1' nan]\n",
      "totals.newVisits\n",
      "['1' nan]\n",
      "trafficSource.adwordsClickInfo.isVideoAd\n",
      "[nan False]\n",
      "trafficSource.campaignCode\n",
      "[nan '11251kjhkvahf']\n",
      "trafficSource.isTrueDirect\n",
      "[nan True]\n"
     ]
    }
   ],
   "source": [
    "for col in train_df_parsed.columns:\n",
    "    if len(train_df_parsed[col].unique()) == 2:\n",
    "        print(col)\n",
    "        print(train_df_parsed[col].unique())"
   ]
  },
  {
   "cell_type": "markdown",
   "metadata": {},
   "source": [
    "There are a few. Let's drop them."
   ]
  },
  {
   "cell_type": "code",
   "execution_count": 8,
   "metadata": {},
   "outputs": [],
   "source": [
    "for col in train_df_parsed.columns:\n",
    "    if len(train_df_parsed[col].unique()) == 2:\n",
    "        if col != 'device.isMobile':\n",
    "            train_df_parsed.drop(col,inplace=True,axis=1)"
   ]
  },
  {
   "cell_type": "markdown",
   "metadata": {},
   "source": [
    "Now, Let's check for any NaN values in dataset."
   ]
  },
  {
   "cell_type": "code",
   "execution_count": 9,
   "metadata": {},
   "outputs": [
    {
     "data": {
      "text/plain": [
       "channelGrouping                                      0\n",
       "date                                                 0\n",
       "fullVisitorId                                        0\n",
       "sessionId                                            0\n",
       "visitId                                              0\n",
       "visitNumber                                          0\n",
       "visitStartTime                                       0\n",
       "device.browser                                       0\n",
       "device.deviceCategory                                0\n",
       "device.isMobile                                      0\n",
       "device.operatingSystem                               0\n",
       "geoNetwork.city                                      0\n",
       "geoNetwork.continent                                 0\n",
       "geoNetwork.country                                   0\n",
       "geoNetwork.metro                                     0\n",
       "geoNetwork.networkDomain                             0\n",
       "geoNetwork.region                                    0\n",
       "geoNetwork.subContinent                              0\n",
       "totals.hits                                          0\n",
       "totals.pageviews                                   100\n",
       "totals.transactionRevenue                       892138\n",
       "trafficSource.adContent                         892707\n",
       "trafficSource.adwordsClickInfo.adNetworkType    882193\n",
       "trafficSource.adwordsClickInfo.gclId            882092\n",
       "trafficSource.adwordsClickInfo.page             882193\n",
       "trafficSource.adwordsClickInfo.slot             882193\n",
       "trafficSource.campaign                               0\n",
       "trafficSource.keyword                           502929\n",
       "trafficSource.medium                                 0\n",
       "trafficSource.referralPath                      572712\n",
       "trafficSource.source                                 0\n",
       "dtype: int64"
      ]
     },
     "execution_count": 9,
     "metadata": {},
     "output_type": "execute_result"
    }
   ],
   "source": [
    "train_df_parsed.isnull().sum()"
   ]
  },
  {
   "cell_type": "markdown",
   "metadata": {},
   "source": [
    "There are several columns with NaN values, we will fill these NaNs appropriately."
   ]
  },
  {
   "cell_type": "markdown",
   "metadata": {},
   "source": [
    "**DATA PREPROCESSING:**"
   ]
  },
  {
   "cell_type": "markdown",
   "metadata": {},
   "source": [
    "4) Since we already know that Tranaction Revenue is a numeric field, we will replace it's NaNs with zeroes."
   ]
  },
  {
   "cell_type": "code",
   "execution_count": 10,
   "metadata": {},
   "outputs": [
    {
     "data": {
      "text/plain": [
       "channelGrouping                                      0\n",
       "date                                                 0\n",
       "fullVisitorId                                        0\n",
       "sessionId                                            0\n",
       "visitId                                              0\n",
       "visitNumber                                          0\n",
       "visitStartTime                                       0\n",
       "device.browser                                       0\n",
       "device.deviceCategory                                0\n",
       "device.isMobile                                      0\n",
       "device.operatingSystem                               0\n",
       "geoNetwork.city                                      0\n",
       "geoNetwork.continent                                 0\n",
       "geoNetwork.country                                   0\n",
       "geoNetwork.metro                                     0\n",
       "geoNetwork.networkDomain                             0\n",
       "geoNetwork.region                                    0\n",
       "geoNetwork.subContinent                              0\n",
       "totals.hits                                          0\n",
       "totals.pageviews                                   100\n",
       "totals.transactionRevenue                            0\n",
       "trafficSource.adContent                         892707\n",
       "trafficSource.adwordsClickInfo.adNetworkType    882193\n",
       "trafficSource.adwordsClickInfo.gclId            882092\n",
       "trafficSource.adwordsClickInfo.page             882193\n",
       "trafficSource.adwordsClickInfo.slot             882193\n",
       "trafficSource.campaign                               0\n",
       "trafficSource.keyword                           502929\n",
       "trafficSource.medium                                 0\n",
       "trafficSource.referralPath                      572712\n",
       "trafficSource.source                                 0\n",
       "dtype: int64"
      ]
     },
     "execution_count": 10,
     "metadata": {},
     "output_type": "execute_result"
    }
   ],
   "source": [
    "train_df_parsed['totals.transactionRevenue'].fillna(0, inplace=True)\n",
    "train_df_parsed.isnull().sum()"
   ]
  },
  {
   "cell_type": "markdown",
   "metadata": {},
   "source": [
    "5) For the rest of the fields, I checked what kind of data they have and fill them with 'Not Set' if they have textual data, and with zeroes if otherwise."
   ]
  },
  {
   "cell_type": "code",
   "execution_count": 12,
   "metadata": {},
   "outputs": [],
   "source": [
    "train_df_parsed['trafficSource.adContent'].fillna('Not Set', inplace=True)\n",
    "train_df_parsed['trafficSource.adwordsClickInfo.adNetworkType'].fillna('Not Set', inplace=True)\n",
    "train_df_parsed['totals.pageviews'].fillna(0, inplace=True)\n",
    "train_df_parsed['trafficSource.adwordsClickInfo.gclId'].fillna('Not Set', inplace=True)\n",
    "train_df_parsed['trafficSource.adwordsClickInfo.page'].fillna('Not Set', inplace=True)\n",
    "train_df_parsed['trafficSource.adwordsClickInfo.slot'].fillna('Not Set', inplace=True)\n",
    "train_df_parsed['trafficSource.keyword'].fillna('Not Set', inplace=True)\n",
    "train_df_parsed['trafficSource.referralPath'].fillna('Not Set', inplace=True)"
   ]
  },
  {
   "cell_type": "markdown",
   "metadata": {},
   "source": [
    "**DATA PREPROCESSING:**"
   ]
  },
  {
   "cell_type": "markdown",
   "metadata": {},
   "source": [
    "6) As seen in the begining, several fields are of Object data type. Some of these will be used for plotting data, which needs numeric data type.\n",
    "I will convert the data types of these fields to int."
   ]
  },
  {
   "cell_type": "code",
   "execution_count": 13,
   "metadata": {},
   "outputs": [],
   "source": [
    "#Renaming and Changing data types of some columns which will be used for plotting\n",
    "\n",
    "train_df_parsed.rename(index=str, columns={'totals.transactionRevenue': 'transactionRevenue'}, inplace =True)\n",
    "train_df_parsed['transactionRevenue'] = train_df_parsed['transactionRevenue'].astype('int64')\n",
    "\n",
    "train_df_parsed.rename(index=str, columns={'totals.hits': 'hits'}, inplace =True)\n",
    "train_df_parsed['hits'] = train_df_parsed['hits'].astype('int64')\n",
    "\n",
    "train_df_parsed.rename(index=str, columns={'totals.pageviews': 'pageviews'}, inplace =True)\n",
    "train_df_parsed['pageviews'] = train_df_parsed['pageviews'].astype('int64')"
   ]
  },
  {
   "cell_type": "code",
   "execution_count": 14,
   "metadata": {},
   "outputs": [],
   "source": [
    "#Also for test data, to maintain consitency in column names\n",
    "test_df_parsed['totals.hits'].fillna(0, inplace=True)\n",
    "test_df_parsed.rename(index=str, columns={'totals.hits': 'hits'}, inplace =True)\n",
    "test_df_parsed['hits'] = test_df_parsed['hits'].astype('int64')\n",
    "test_df_parsed['totals.pageviews'].fillna(0, inplace=True)\n",
    "test_df_parsed.rename(index=str, columns={'totals.pageviews': 'pageviews'}, inplace =True)\n",
    "test_df_parsed['pageviews'] = test_df_parsed['pageviews'].astype('int64')"
   ]
  },
  {
   "cell_type": "code",
   "execution_count": 15,
   "metadata": {},
   "outputs": [],
   "source": [
    "#A Function that will be used throughout the notebook to plot between two features\n",
    "def create_plot(feature1, feature2, size=[10,10]):\n",
    "    plt.figure(figsize=(size))\n",
    "    plot_df = train_df_parsed.groupby(feature1)[feature2].mean().reset_index()\n",
    "    plot_df = plot_df.query(feature2+\"!=0\")\n",
    "    plt.barh(plot_df[feature1], plot_df[feature2], align='center')"
   ]
  },
  {
   "cell_type": "markdown",
   "metadata": {},
   "source": [
    "**Heatmap:**"
   ]
  },
  {
   "cell_type": "code",
   "execution_count": 16,
   "metadata": {},
   "outputs": [
    {
     "data": {
      "image/png": "[encoded data removed]",
      "text/plain": [
       "<Figure size 468x432 with 2 Axes>"
      ]
     },
     "metadata": {
      "needs_background": "light"
     },
     "output_type": "display_data"
    }
   ],
   "source": [
    "heat_df = train_df_parsed.groupby(['device.operatingSystem','device.deviceCategory'])['transactionRevenue'].mean().reset_index()\n",
    "heat_df = heat_df.query('transactionRevenue!=0')\n",
    "heat_df = heat_df.pivot_table(index=['device.operatingSystem'],columns=['device.deviceCategory'], values='transactionRevenue')\n",
    "plt.figure(figsize=(6.5,6))\n",
    "sns.heatmap(heat_df, annot=True, fmt=\".1f\",linewidths=\"1\",cmap=\"Blues\")\n",
    "plt.xlabel('Device Category')\n",
    "plt.ylabel('Device Operating System')\n",
    "plt.show()"
   ]
  },
  {
   "cell_type": "markdown",
   "metadata": {},
   "source": [
    "**Interpretation:** As we can see in the above Heatmap, A lot of the Revenue is being generated from people who are using ChromeOS and Android devices.\n",
    "Which makes sense, as it is a known fact that the masses are broadly divided into Apple followers and Google followers.\n",
    "So, it makes sense that people who are already Google customers will be the people who generate large revenues.\n",
    "And it is also likely that people with Apple with most like stick to Apple products."
   ]
  },
  {
   "cell_type": "markdown",
   "metadata": {},
   "source": [
    "**Interesting Plot:**"
   ]
  },
  {
   "cell_type": "code",
   "execution_count": 22,
   "metadata": {},
   "outputs": [
    {
     "data": {
      "image/png": "[encoded data removed]",
      "text/plain": [
       "<Figure size 576x216 with 1 Axes>"
      ]
     },
     "metadata": {
      "needs_background": "light"
     },
     "output_type": "display_data"
    }
   ],
   "source": [
    "create_plot('geoNetwork.continent', 'hits',[8,3])\n",
    "plt.xlabel('Hits')\n",
    "plt.ylabel('Continents')\n",
    "plt.show()"
   ]
  },
  {
   "cell_type": "code",
   "execution_count": 23,
   "metadata": {},
   "outputs": [
    {
     "data": {
      "image/png": "[encoded data removed]",
      "text/plain": [
       "<Figure size 576x216 with 1 Axes>"
      ]
     },
     "metadata": {
      "needs_background": "light"
     },
     "output_type": "display_data"
    }
   ],
   "source": [
    "create_plot('geoNetwork.continent', 'pageviews',[8,3])\n",
    "plt.xlabel('Pageviews')\n",
    "plt.ylabel('Continents')\n",
    "plt.show()"
   ]
  },
  {
   "cell_type": "markdown",
   "metadata": {},
   "source": [
    "As we can see in the above two plots, most of the traffic to the store originated from America,\n",
    "and the rest of the continents generate a reasonable amount of traffics."
   ]
  },
  {
   "cell_type": "code",
   "execution_count": 24,
   "metadata": {},
   "outputs": [
    {
     "data": {
      "image/png": "[encoded data removed]",
      "text/plain": [
       "<Figure size 576x216 with 1 Axes>"
      ]
     },
     "metadata": {
      "needs_background": "light"
     },
     "output_type": "display_data"
    }
   ],
   "source": [
    "create_plot('geoNetwork.continent','transactionRevenue', [8,3])\n",
    "plt.xlabel('Mean Transaction Revenue')\n",
    "plt.ylabel('Continents')\n",
    "plt.show()"
   ]
  },
  {
   "cell_type": "markdown",
   "metadata": {},
   "source": [
    "But, as we plot the Continent Vs Mean Transaction Revenue bar plot, we observe that although the other continents genearated reasonable traffic to the store.\n",
    "Only the traffic from America has generated comparable revenue."
   ]
  },
  {
   "cell_type": "markdown",
   "metadata": {},
   "source": [
    "**Clustering Data:** We will cluster the data based on some of the geographical features.(Continent and Subcontinent), and plot them against log of the revenue(for visualization purpose)."
   ]
  },
  {
   "cell_type": "code",
   "execution_count": 26,
   "metadata": {},
   "outputs": [
    {
     "data": {
      "image/png": "[encoded data removed]",
      "text/plain": [
       "<Figure size 478.625x360 with 1 Axes>"
      ]
     },
     "metadata": {
      "needs_background": "light"
     },
     "output_type": "display_data"
    }
   ],
   "source": [
    "#Scatter plot of Subcontinents and Log of Revenues\n",
    "\n",
    "train_df_parsed['transactionRevenue_log'] = np.log1p(train_df_parsed['transactionRevenue'].astype(float))\n",
    "plot_df = train_df_parsed[['geoNetwork.continent','geoNetwork.subContinent','transactionRevenue_log']]\n",
    "plot_df = plot_df.query('transactionRevenue_log!=0')\n",
    "lm = sns.lmplot('geoNetwork.subContinent', 'transactionRevenue_log', \n",
    "           data=plot_df, \n",
    "           fit_reg=False, \n",
    "           hue=\"geoNetwork.continent\",  \n",
    "           scatter_kws={\"marker\": \"D\", \n",
    "                        \"s\": 50})\n",
    "plt.title('Sub-Continents vs Log of Revenues')\n",
    "plt.xlabel('Sub-Continents')\n",
    "lm.set_xticklabels(rotation=90, size=11)\n",
    "plt.ylabel('Log of Revenues')\n",
    "plt.show()"
   ]
  },
  {
   "cell_type": "markdown",
   "metadata": {},
   "source": [
    "**Interpretation:** We can see that in the American continent, North America generates more revenue than other subcontitnents. And in the Asian continent East Asia generates some of the higher revenues."
   ]
  },
  {
   "cell_type": "markdown",
   "metadata": {},
   "source": [
    "**Buying Score:** Let us list out all the points we have learnt so far:"
   ]
  },
  {
   "cell_type": "markdown",
   "metadata": {},
   "source": [
    "1) If continent is America the revenue is high."
   ]
  },
  {
   "cell_type": "markdown",
   "metadata": {},
   "source": [
    "2) If continent is America the site graffic gets translated to revenue more often than other continents."
   ]
  },
  {
   "cell_type": "markdown",
   "metadata": {},
   "source": [
    "3) If the device being used runs ChromeOS and Android the chances of revenue are higher."
   ]
  },
  {
   "cell_type": "markdown",
   "metadata": {},
   "source": [
    "Apart from the above points, by intuition we know that if a person visits the store again and again the chances of him buying something are high."
   ]
  },
  {
   "cell_type": "markdown",
   "metadata": {},
   "source": [
    "Now, lets create a buying score keeping the above points in mind."
   ]
  },
  {
   "cell_type": "code",
   "execution_count": 28,
   "metadata": {},
   "outputs": [],
   "source": [
    "#First we define a funtion to normalize some of the data before we take them into consideration\n",
    "def normalize_columns(df):\n",
    "    df[\"hits\"] = df[\"hits\"].astype(float)\n",
    "    df[\"hits\"] = (df[\"hits\"] - min(df[\"hits\"])) / (max(df[\"hits\"]) - min(df[\"hits\"]))\n",
    "\n",
    "    df[\"pageviews\"] = df[\"pageviews\"].astype(float)\n",
    "    df[\"pageviews\"] = (df[\"pageviews\"] - min(df[\"pageviews\"])) / (max(df[\"pageviews\"]) - min(df[\"pageviews\"]))\n",
    "    return df "
   ]
  },
  {
   "cell_type": "code",
   "execution_count": 29,
   "metadata": {},
   "outputs": [],
   "source": [
    "train_df_parsed = normalize_columns(train_df_parsed)\n",
    "#Again doing the same for test data to maintain consitency\n",
    "test_df_parsed = normalize_columns(test_df_parsed)"
   ]
  },
  {
   "cell_type": "code",
   "execution_count": 63,
   "metadata": {},
   "outputs": [],
   "source": [
    "#The function defining our buying score\n",
    "def buying_score(row):\n",
    "    if(row['geoNetwork.continent']=='America'):\n",
    "        if(row['transactionRevenue']!=0):\n",
    "            score = row.hits + row.pageviews + row.visitNumber\n",
    "        else:\n",
    "            score = 0\n",
    "    else:\n",
    "        if(row['transactionRevenue']!=0):\n",
    "            score = row.visitNumber\n",
    "        else:\n",
    "            score = 0\n",
    "    return score"
   ]
  },
  {
   "cell_type": "code",
   "execution_count": 64,
   "metadata": {},
   "outputs": [],
   "source": [
    "#Creating a new column that contains scores for each visitor\n",
    "train_df_parsed['score'] = train_df_parsed.apply(buying_score, axis=1)"
   ]
  },
  {
   "cell_type": "code",
   "execution_count": 69,
   "metadata": {},
   "outputs": [
    {
     "data": {
      "text/html": [
       "<div>\n",
       "<style scoped>\n",
       "    .dataframe tbody tr th:only-of-type {\n",
       "        vertical-align: middle;\n",
       "    }\n",
       "\n",
       "    .dataframe tbody tr th {\n",
       "        vertical-align: top;\n",
       "    }\n",
       "\n",
       "    .dataframe thead th {\n",
       "        text-align: right;\n",
       "    }\n",
       "</style>\n",
       "<table border=\"1\" class=\"dataframe\">\n",
       "  <thead>\n",
       "    <tr style=\"text-align: right;\">\n",
       "      <th></th>\n",
       "      <th>fullVisitorId</th>\n",
       "      <th>score</th>\n",
       "    </tr>\n",
       "  </thead>\n",
       "  <tbody>\n",
       "    <tr>\n",
       "      <th>574969</th>\n",
       "      <td>6944288019130180719</td>\n",
       "      <td>300.0</td>\n",
       "    </tr>\n",
       "    <tr>\n",
       "      <th>202743</th>\n",
       "      <td>0616530401183877867</td>\n",
       "      <td>299.0</td>\n",
       "    </tr>\n",
       "    <tr>\n",
       "      <th>131242</th>\n",
       "      <td>0205723721674321991</td>\n",
       "      <td>295.0</td>\n",
       "    </tr>\n",
       "    <tr>\n",
       "      <th>886691</th>\n",
       "      <td>7232030663207265797</td>\n",
       "      <td>245.0</td>\n",
       "    </tr>\n",
       "    <tr>\n",
       "      <th>755000</th>\n",
       "      <td>0514253309422836642</td>\n",
       "      <td>207.0</td>\n",
       "    </tr>\n",
       "    <tr>\n",
       "      <th>300722</th>\n",
       "      <td>8883600023735279403</td>\n",
       "      <td>192.0</td>\n",
       "    </tr>\n",
       "    <tr>\n",
       "      <th>381235</th>\n",
       "      <td>9324829089415258862</td>\n",
       "      <td>170.0</td>\n",
       "    </tr>\n",
       "    <tr>\n",
       "      <th>181544</th>\n",
       "      <td>2583318836591839554</td>\n",
       "      <td>167.0</td>\n",
       "    </tr>\n",
       "    <tr>\n",
       "      <th>755049</th>\n",
       "      <td>7811787934602942622</td>\n",
       "      <td>154.0</td>\n",
       "    </tr>\n",
       "    <tr>\n",
       "      <th>685994</th>\n",
       "      <td>1533016242418481907</td>\n",
       "      <td>151.0</td>\n",
       "    </tr>\n",
       "  </tbody>\n",
       "</table>\n",
       "</div>"
      ],
      "text/plain": [
       "              fullVisitorId  score\n",
       "574969  6944288019130180719  300.0\n",
       "202743  0616530401183877867  299.0\n",
       "131242  0205723721674321991  295.0\n",
       "886691  7232030663207265797  245.0\n",
       "755000  0514253309422836642  207.0\n",
       "300722  8883600023735279403  192.0\n",
       "381235  9324829089415258862  170.0\n",
       "181544  2583318836591839554  167.0\n",
       "755049  7811787934602942622  154.0\n",
       "685994  1533016242418481907  151.0"
      ]
     },
     "execution_count": 69,
     "metadata": {},
     "output_type": "execute_result"
    }
   ],
   "source": [
    "#Now Let us get the top 10 users scored by our function.\n",
    "train_df_parsed.sort_values('score', ascending=False)[['fullVisitorId','score']][0:10]"
   ]
  },
  {
   "cell_type": "markdown",
   "metadata": {},
   "source": [
    "**Creting Model:** First of all we need to encode all the categorical data for the purpose of modeling."
   ]
  },
  {
   "cell_type": "code",
   "execution_count": 27,
   "metadata": {},
   "outputs": [],
   "source": [
    "# Encoding Categorical Columns to create our model\n",
    "\n",
    "from sklearn import preprocessing\n",
    "# label encode the categorical variables and convert the numerical variables to float\n",
    "cat_cols = [\"channelGrouping\", \"fullVisitorId\", \"sessionId\",\n",
    "            \"device.browser\", \"device.deviceCategory\", \"device.isMobile\",\n",
    "            \"device.operatingSystem\", \"geoNetwork.city\", \"geoNetwork.continent\", \n",
    "            \"geoNetwork.country\", \"geoNetwork.metro\", \"geoNetwork.networkDomain\",\n",
    "            \"geoNetwork.region\", \"geoNetwork.subContinent\", \"trafficSource.adContent\", \n",
    "            \"trafficSource.adwordsClickInfo.adNetworkType\", \"trafficSource.adwordsClickInfo.gclId\", \n",
    "            \"trafficSource.adwordsClickInfo.page\", \"trafficSource.adwordsClickInfo.slot\",\n",
    "            \"trafficSource.campaign\", \"trafficSource.keyword\", \"trafficSource.medium\", \n",
    "            \"trafficSource.referralPath\", \"trafficSource.source\"]\n",
    "for col in cat_cols:\n",
    "    lbl = preprocessing.LabelEncoder()\n",
    "    lbl.fit(list(train_df_parsed[col].values.astype('str')) + list(test_df_parsed[col].values.astype('str')))\n",
    "    train_df_parsed[col+\"_code\"] = lbl.transform(list(train_df_parsed[col].values.astype('str')))\n",
    "    test_df_parsed[col+\"_code\"] = lbl.transform(list(test_df_parsed[col].values.astype('str')))"
   ]
  },
  {
   "cell_type": "code",
   "execution_count": 30,
   "metadata": {},
   "outputs": [],
   "source": [
    "#Genearating Features and Spliting training data\n",
    "\n",
    "features = [c for c in train_df_parsed.columns]\n",
    "features.remove(\"transactionRevenue\")\n",
    "features.remove(\"transactionRevenue_log\")\n",
    "cat_cols = [\"channelGrouping\", \"fullVisitorId\", \"sessionId\",\n",
    "            \"device.browser\", \"device.deviceCategory\", \"device.isMobile\",\n",
    "            \"device.operatingSystem\", \"geoNetwork.city\", \"geoNetwork.continent\", \n",
    "            \"geoNetwork.country\", \"geoNetwork.metro\", \"geoNetwork.networkDomain\",\n",
    "            \"geoNetwork.region\", \"geoNetwork.subContinent\", \"trafficSource.adContent\", \n",
    "            \"trafficSource.adwordsClickInfo.adNetworkType\", \"trafficSource.adwordsClickInfo.gclId\", \n",
    "            \"trafficSource.adwordsClickInfo.page\", \"trafficSource.adwordsClickInfo.slot\",\n",
    "            \"trafficSource.campaign\", \"trafficSource.keyword\", \"trafficSource.medium\", \n",
    "            \"trafficSource.referralPath\", \"trafficSource.source\"]\n",
    "for col in cat_cols:\n",
    "    features.remove(col)\n",
    "    \n",
    "X_train, X_test, y_train, y_test = train_test_split(train_df_parsed[features], train_df_parsed[\"transactionRevenue_log\"], test_size=0.25, random_state=20)"
   ]
  },
  {
   "cell_type": "code",
   "execution_count": null,
   "metadata": {},
   "outputs": [],
   "source": [
    "#Building the model ( We are going to use LGBM this time)\n",
    "\n",
    "import lightgbm as lgb \n",
    "\n",
    "lgb_params = {\"objective\" : \"regression\", \"metric\" : \"rmse\",\n",
    "              \"num_leaves\" : 50, \"learning_rate\" : 0.02, \n",
    "              \"bagging_fraction\" : 0.75, \"feature_fraction\" : 0.8, \"bagging_frequency\" : 9}\n",
    "    \n",
    "lgb_train = lgb.Dataset(X_train, label=y_train)\n",
    "lgb_val = lgb.Dataset(X_test, label=y_test)\n",
    "model = lgb.train(lgb_params, lgb_train, 700, valid_sets=[lgb_val], early_stopping_rounds=150, verbose_eval=20)"
   ]
  },
  {
   "cell_type": "code",
   "execution_count": 32,
   "metadata": {},
   "outputs": [],
   "source": [
    "#Finally let us predict the values and store the Output.\n",
    "\n",
    "preds = model.predict(test_df_parsed[features], num_iteration=model.best_iteration)\n",
    "test_df_parsed[\"PredictedLogRevenue\"] = np.expm1(preds)\n",
    "predictions = test_df_parsed.groupby(\"fullVisitorId\").agg({\"PredictedLogRevenue\" : \"sum\"}).reset_index()\n",
    "predictions[\"PredictedLogRevenue\"] = np.log1p(predictions[\"PredictedLogRevenue\"])\n",
    "predictions[\"PredictedLogRevenue\"] =  predictions[\"PredictedLogRevenue\"].apply(lambda x : 0.0 if x < 0 else x)\n",
    "predictions.fillna(0, inplace=True)\n",
    "predictions.to_csv(\"predictions.csv\", index=False)"
   ]
  },
  {
   "cell_type": "markdown",
   "metadata": {},
   "source": [
    "**Permutation Test:** I will run a series of permutation on the features of my model and calculat the RMSE for each permutation. I will then use a SciPy funtion stats.ttest_1samp() to get the p-value from the list of RMSE of each feature permuted."
   ]
  },
  {
   "cell_type": "code",
   "execution_count": 41,
   "metadata": {},
   "outputs": [],
   "source": [
    "#Let us save the RMSE of our model, as this will be used to generate P-value on task 7.\n",
    "\n",
    "model_rmse = sqrt(mean_squared_error(y_test,pred))"
   ]
  },
  {
   "cell_type": "code",
   "execution_count": null,
   "metadata": {},
   "outputs": [],
   "source": [
    "#Permutating the column values for some of our features and generating p-values using RMSE for each permutation for these features.\n",
    "\n",
    "features_to_permute = ['visitNumber','hits','geoNetwork.continent_code','device.operatingSystem_code','trafficSource.source_code']\n",
    "\n",
    "#We will save these p-values in a dictionary\n",
    "p_values = dict()\n",
    "\n",
    "#Before proceeding with permutation lets take a backup of the dataframe\n",
    "train_df_backup = train_df_parsed\n",
    "\n",
    "for feature in features_to_permute:\n",
    "    feature_rmse = np.zeros(1000)\n",
    "    for i in range(1000):\n",
    "        train_df_parsed[feature] = np.random.permutation(train_df_parsed[feature])\n",
    "        X_train, X_test, y_train, y_test = train_test_split(train_df_parsed[features], train_df_parsed[\"transactionRevenue_log\"], test_size=0.25, random_state=20)\n",
    "        lgb_params = {\"objective\" : \"regression\", \"metric\" : \"rmse\",\n",
    "                  \"num_leaves\" : 50, \"learning_rate\" : 0.02, \n",
    "                  \"bagging_fraction\" : 0.75, \"feature_fraction\" : 0.8, \"bagging_frequency\" : 9}\n",
    "    \n",
    "        lgb_train = lgb.Dataset(X_train, label=y_train)\n",
    "        lgb_val = lgb.Dataset(X_test, label=y_test)\n",
    "        model = lgb.train(lgb_params, lgb_train, 700, valid_sets=[lgb_val], early_stopping_rounds=150, verbose_eval=20)\n",
    "        pred = model.predict(X_test, num_iteration=model.best_iteration)\n",
    "        feature_rmse[i] = sqrt(mean_squared_error(y_test,pred))\n",
    "    \n",
    "    #Replacing the shuffled value from our backup.\n",
    "    train_df_parsed[feature] = train_df_backup[feature]\n",
    "    \n",
    "    #We use the below function to get the P-value.\n",
    "    statistcs, pval = stats.ttest_1samp(feature_rmse, model_rmse)\n",
    "    p_values[feature] = pval"
   ]
  },
  {
   "cell_type": "markdown",
   "metadata": {},
   "source": [
    "As expected, continent and operating system are the most important features. On the other hand, traffic source does not matter as much."
   ]
  }
 ],
 "metadata": {
  "kernelspec": {
   "display_name": "Python 3",
   "language": "python",
   "name": "python3"
  },
  "language_info": {
   "codemirror_mode": {
    "name": "ipython",
    "version": 3
   },
   "file_extension": ".py",
   "mimetype": "text/x-python",
   "name": "python",
   "nbconvert_exporter": "python",
   "pygments_lexer": "ipython3",
   "version": "3.6.6"
  }
 },
 "nbformat": 4,
 "nbformat_minor": 2
}
